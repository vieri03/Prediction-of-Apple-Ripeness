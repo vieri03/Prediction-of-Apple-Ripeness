{
  "nbformat": 4,
  "nbformat_minor": 0,
  "metadata": {
    "colab": {
      "name": "GLCM4",
      "provenance": [],
      "authorship_tag": "ABX9TyO569ZRmeKQjtHTAn2iGPDD",
      "include_colab_link": true
    },
    "kernelspec": {
      "name": "python3",
      "display_name": "Python 3"
    },
    "language_info": {
      "name": "python"
    }
  },
  "cells": [
    {
      "cell_type": "markdown",
      "metadata": {
        "id": "view-in-github",
        "colab_type": "text"
      },
      "source": [
        "<a href=\"https://colab.research.google.com/github/vieri03/Prediction-of-Apple-Ripeness/blob/main/GLCM4.ipynb\" target=\"_parent\"><img src=\"https://colab.research.google.com/assets/colab-badge.svg\" alt=\"Open In Colab\"/></a>"
      ]
    },
    {
      "cell_type": "code",
      "execution_count": null,
      "metadata": {
        "id": "pSwC9W4F9ejx"
      },
      "outputs": [],
      "source": [
        "import numpy as np\n",
        "from skimage import io\n",
        "from scipy import stats\n",
        "from skimage.feature import greycoprops\n",
        "import glob\n",
        "import csv\n",
        "\n",
        "def offset(length, angle):\n",
        "    \"\"\"Return the offset in pixels for a given length and angle\"\"\"\n",
        "    dv = length * np.sign(-np.sin(angle)).astype(np.int32)\n",
        "    dh = length * np.sign(np.cos(angle)).astype(np.int32)\n",
        "    return dv, dh\n",
        "\n",
        "def crop(img, center, win):\n",
        "    \"\"\"Return a square crop of img centered at center (side = 2*win + 1)\"\"\"\n",
        "    row, col = center\n",
        "    side = 2*win + 1\n",
        "    first_row = row - win\n",
        "    first_col = col - win\n",
        "    last_row = first_row + side    \n",
        "    last_col = first_col + side\n",
        "    return img[first_row: last_row, first_col: last_col]\n",
        "\n",
        "def cooc_maps(img, center, win, d=[1], theta=[0], levels=256):\n",
        "    \"\"\"\n",
        "    Return a set of co-occurrence maps for different d and theta in a square \n",
        "    crop centered at center (side = 2*w + 1)\n",
        "    \"\"\"\n",
        "    shape = (2*win + 1, 2*win + 1, len(d), len(theta))\n",
        "    cooc = np.zeros(shape=shape, dtype=np.int32)\n",
        "    row, col = center\n",
        "    Ii = crop(img, (row, col), win)\n",
        "    for d_index, length in enumerate(d):\n",
        "        for a_index, angle in enumerate(theta):\n",
        "            dv, dh = offset(length, angle)\n",
        "            Ij = crop(img, center=(row + dv, col + dh), win=win)\n",
        "            cooc[:, :, d_index, a_index] = encode_cooccurrence(Ii, Ij, levels)\n",
        "    return cooc\n",
        "\n",
        "def encode_cooccurrence(x, y, levels=256):\n",
        "    \"\"\"Return the code corresponding to co-occurrence of intensities x and y\"\"\"\n",
        "    return x*levels + y\n",
        "\n",
        "def decode_cooccurrence(code, levels=256):\n",
        "    \"\"\"Return the intensities x, y corresponding to code\"\"\"\n",
        "    return code//levels, np.mod(code, levels)    \n",
        "\n",
        "def compute_glcms(cooccurrence_maps, levels=256):\n",
        "    \"\"\"Compute the cooccurrence frequencies of the cooccurrence maps\"\"\"\n",
        "    Nr, Na = cooccurrence_maps.shape[2:]\n",
        "    glcms = np.zeros(shape=(levels, levels, Nr, Na), dtype=np.float64)\n",
        "    for r in range(Nr):\n",
        "        for a in range(Na):\n",
        "            table = stats.itemfreq(cooccurrence_maps[:, :, r, a])\n",
        "            codes = table[:, 0]\n",
        "            freqs = table[:, 1]/float(table[:, 1].sum())\n",
        "            i, j = decode_cooccurrence(codes, levels=levels)\n",
        "            glcms[i, j, r, a] = freqs\n",
        "    return glcms\n",
        "\n",
        "def compute_props(glcms, props=('contrast',)):\n",
        "    \"\"\"Return a feature vector corresponding to a set of GLCM\"\"\"\n",
        "    Nr, Na = glcms.shape[2:]\n",
        "    features = np.zeros(shape=(Nr, Na, len(props)))\n",
        "    for index, prop_name in enumerate(props):\n",
        "        features[:, :, index] = greycoprops(glcms, prop_name)\n",
        "    return features.ravel()\n",
        "\n",
        "def haralick_features(img, win, d, theta, levels, props):\n",
        "    \"\"\"Return a map of Haralick features (one feature vector per pixel)\"\"\"\n",
        "    rows, cols = img.shape\n",
        "    margin = win + max(d)\n",
        "    arr = np.pad(img, margin, mode='reflect')\n",
        "    n_features = len(d) * len(theta) * len(props)\n",
        "    feature_map = np.zeros(shape=(rows, cols, n_features), dtype=np.float64)\n",
        "    for m in range(rows):\n",
        "        for n in range(cols):\n",
        "            coocs = cooc_maps(arr, (m + margin, n + margin), win, d, theta, levels)\n",
        "            glcms = compute_glcms(coocs, levels)\n",
        "            feature_map[m, n, :] = compute_props(glcms, props)\n",
        "    return feature_map"
      ]
    },
    {
      "cell_type": "code",
      "source": [
        "from google.colab import drive\n",
        "drive.mount('/content/gdrive')\n",
        "%cd /content/gdrive/My Drive/Colab Notebooks/"
      ],
      "metadata": {
        "colab": {
          "base_uri": "https://localhost:8080/"
        },
        "id": "8NNJbUOx9iJF",
        "outputId": "958d4ae9-6b0e-45f5-8309-b46a5b22ee3e"
      },
      "execution_count": null,
      "outputs": [
        {
          "output_type": "stream",
          "name": "stdout",
          "text": [
            "Mounted at /content/gdrive\n",
            "/content/gdrive/My Drive/Colab Notebooks\n"
          ]
        }
      ]
    },
    {
      "cell_type": "code",
      "source": [
        "import os\n",
        "from os import listdir\n",
        "from PIL import Image\n",
        "\n",
        "path = '/content/gdrive/My Drive/Colab Notebooks/feature/'\n",
        "\n",
        "for filename in listdir(path):\n",
        "    if filename.endswith('.jpg'):\n",
        "        try:\n",
        "            img = Image.open(path + filename) # open the image file\n",
        "            img.verify() # verify that it is, in fact an image\n",
        "        except (IOError, SyntaxError) as e:\n",
        "            print('Bad file:', filename)"
      ],
      "metadata": {
        "id": "9VueTVrPRnZE"
      },
      "execution_count": null,
      "outputs": []
    },
    {
      "cell_type": "code",
      "source": [
        "path = '/content/gdrive/My Drive/Colab Notebooks/feature/*.*'\n",
        "\n",
        "filename = '/content/gdrive/My Drive/Colab Notebooks/result-image-twentyfifth.csv'\n",
        "\n",
        "# open the file in the write mode\n",
        "f = open(filename, 'w')\n",
        "\n",
        "# create the csv writer\n",
        "writer = csv.writer(f)\n",
        "head = [\"Number\",\"Image\", \"contrast-1-0\", \"ASM-1-0\", \"energy-1-0\", \"homogeneity-1-0\", \"dissimilarity-1-0\", \n",
        "        \"contrast-1-45\", \"ASM-1-45\", \"energy-1-45\", \"homogeneity-1-45\", \"dissimilarity-1-45\",\n",
        "        \"contrast-1-90\", \"ASM-1-90\", \"energy-1-90\", \"homogeneity-1-90\", \"dissimilarity-1-90\",\n",
        "        \"contrast-1-135\", \"ASM-1-135\", \"energy-1-135\", \"homogeneity-1-135\", \"dissimilarity-1-135\",\n",
        "        \"contrast-2-0\", \"ASM-2-0\", \"energy-2-0\", \"homogeneity-2-0\", \"dissimilarity-2-0\", \n",
        "        \"contrast-2-45\", \"ASM-2-45\", \"energy-2-45\", \"homogeneity-2-45\", \"dissimilarity-2-45\",\n",
        "        \"contrast-2-90\", \"ASM-2-90\", \"energy-2-90\", \"homogeneity-2-90\", \"dissimilarity-2-90\",\n",
        "        \"contrast-2-135\", \"ASM-2-135\", \"energy-2-135\", \"homogeneity-2-135\", \"dissimilarity-2-135\",\n",
        "        \"contrast-3-0\", \"ASM-3-0\", \"energy-3-0\", \"homogeneity-3-0\", \"dissimilarity-3-0\", \n",
        "        \"contrast-3-45\", \"ASM-3-45\", \"energy-3-45\", \"homogeneity-3-45\", \"dissimilarity-3-45\",\n",
        "        \"contrast-3-90\", \"ASM-3-90\", \"energy-3-90\", \"homogeneity-3-90\", \"dissimilarity-3-90\",\n",
        "        \"contrast-3-135\", \"ASM-3-135\", \"energy-3-135\", \"homogeneity-3-135\", \"dissimilarity-3-135\"]\n",
        "writer.writerow(head)\n",
        "\n",
        "image_no = 1\n",
        "for file in sorted(glob.glob(path)): #sorted by name\n",
        "  img = io.imread(file, as_gray=True)\n",
        "\n",
        "  d = (1, 2, 3)\n",
        "  theta = (0, np.pi/4, np.pi/2, 3*np.pi/4)\n",
        "  props = ('contrast', 'ASM', 'energy', 'homogeneity', 'dissimilarity')\n",
        "  levels = 8\n",
        "  win = 19\n",
        "  \n",
        "  feature_map = haralick_features(img, win, d, theta, levels, props)\n",
        "  feature_map[0, 0, :]\n",
        "\n",
        "  #split distance\n",
        "  array = np.array_split(feature_map[0, 0, :], 3)\n",
        "\n",
        "  #split angles\n",
        "  newarr_0 = np.array_split(array[0], 4)\n",
        "  newarr_1 = np.array_split(array[1], 4)\n",
        "  newarr_2 = np.array_split(array[2], 4)\n",
        "\n",
        "  #split properties\n",
        "  result_0_0 = np.array_split(newarr_0[0], 5)\n",
        "  result_0_1 = np.array_split(newarr_0[1], 5)\n",
        "  result_0_2 = np.array_split(newarr_0[2], 5)\n",
        "  result_0_3 = np.array_split(newarr_0[3], 5)\n",
        "  \n",
        "  result_1_0 = np.array_split(newarr_1[0], 5)\n",
        "  result_1_1 = np.array_split(newarr_1[1], 5)\n",
        "  result_1_2 = np.array_split(newarr_1[2], 5)\n",
        "  result_1_3 = np.array_split(newarr_0[3], 5)\n",
        "  \n",
        "  result_2_0 = np.array_split(newarr_2[0], 5)\n",
        "  result_2_1 = np.array_split(newarr_2[1], 5)\n",
        "  result_2_2 = np.array_split(newarr_2[2], 5)\n",
        "  result_2_3 = np.array_split(newarr_0[3], 5)\n",
        "\n",
        "\n",
        "  row = [image_no, file, result_0_0[0], result_0_0[1], result_0_0[2], result_0_0[3], result_0_0[4],\n",
        "         result_0_1[0], result_0_1[1], result_0_1[2], result_0_1[3], result_0_1[4],\n",
        "         result_0_2[0], result_0_2[1], result_0_2[2], result_0_2[3], result_0_2[4],\n",
        "         result_0_3[0], result_0_3[1], result_0_3[2], result_0_3[3], result_0_3[4],\n",
        "         result_1_0[0], result_1_0[1], result_1_0[2], result_1_0[3], result_1_0[4],\n",
        "         result_1_1[0], result_1_1[1], result_1_1[2], result_1_1[3], result_1_1[4],\n",
        "         result_1_2[0], result_1_2[1], result_1_2[2], result_1_2[3], result_1_2[4],\n",
        "         result_1_3[0], result_1_3[1], result_1_3[2], result_1_3[3], result_1_3[4],\n",
        "         result_2_0[0], result_2_0[1], result_2_0[2], result_2_0[3], result_2_0[4],\n",
        "         result_2_1[0], result_2_1[1], result_2_1[2], result_2_1[3], result_2_1[4],\n",
        "         result_2_2[0], result_2_2[1], result_2_2[2], result_2_2[3], result_2_2[4],\n",
        "         result_2_3[0], result_2_3[1], result_2_3[2], result_2_3[3], result_2_3[4]]\n",
        "\n",
        "  writer.writerow(row)\n",
        "  image_no += 1\n",
        "\n",
        "f.close()    "
      ],
      "metadata": {
        "colab": {
          "base_uri": "https://localhost:8080/"
        },
        "id": "Q54HvrHb9jup",
        "outputId": "d9b1b7c4-f51e-4475-f1c4-e53d28e0d232"
      },
      "execution_count": null,
      "outputs": [
        {
          "output_type": "stream",
          "name": "stderr",
          "text": [
            "/usr/local/lib/python3.7/dist-packages/ipykernel_launcher.py:54: DeprecationWarning:     `itemfreq` is deprecated!\n",
            "    `itemfreq` is deprecated and will be removed in a future version. Use instead `np.unique(..., return_counts=True)`\n"
          ]
        }
      ]
    }
  ]
}