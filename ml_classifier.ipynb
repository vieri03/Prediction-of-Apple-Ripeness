{
  "nbformat": 4,
  "nbformat_minor": 0,
  "metadata": {
    "colab": {
      "name": "ml classifier",
      "provenance": [],
      "collapsed_sections": [],
      "authorship_tag": "ABX9TyM6YGwMhsHs687sClUU2V5V",
      "include_colab_link": true
    },
    "kernelspec": {
      "name": "python3",
      "display_name": "Python 3"
    },
    "language_info": {
      "name": "python"
    }
  },
  "cells": [
    {
      "cell_type": "markdown",
      "metadata": {
        "id": "view-in-github",
        "colab_type": "text"
      },
      "source": [
        "<a href=\"https://colab.research.google.com/github/vieri03/Prediction-of-Apple-Ripeness/blob/main/ml_classifier.ipynb\" target=\"_parent\"><img src=\"https://colab.research.google.com/assets/colab-badge.svg\" alt=\"Open In Colab\"/></a>"
      ]
    },
    {
      "cell_type": "code",
      "execution_count": 1,
      "metadata": {
        "id": "ZS5Eo8Cyt139"
      },
      "outputs": [],
      "source": [
        "import pandas as pd\n",
        "from matplotlib.colors import ListedColormap\n",
        "from sklearn.model_selection import train_test_split\n",
        "from sklearn.preprocessing import StandardScaler\n",
        "from sklearn.neural_network import MLPClassifier\n",
        "from sklearn.neighbors import KNeighborsClassifier\n",
        "from sklearn.svm import SVC\n",
        "from sklearn.gaussian_process import GaussianProcessClassifier\n",
        "from sklearn.gaussian_process.kernels import RBF\n",
        "from sklearn.tree import DecisionTreeClassifier\n",
        "from sklearn.ensemble import RandomForestClassifier, AdaBoostClassifier\n",
        "from sklearn.naive_bayes import GaussianNB\n",
        "from sklearn.discriminant_analysis import QuadraticDiscriminantAnalysis\n",
        "from sklearn.metrics import confusion_matrix, ConfusionMatrixDisplay"
      ]
    },
    {
      "cell_type": "code",
      "source": [
        "from google.colab import drive\n",
        "drive.mount('/content/gdrive')\n",
        "%cd /content/gdrive/My Drive/Colab Notebooks"
      ],
      "metadata": {
        "colab": {
          "base_uri": "https://localhost:8080/"
        },
        "id": "44Jm6YbG0Yrs",
        "outputId": "2fd1452b-ce4e-45ac-dd39-211a4d25789f"
      },
      "execution_count": 2,
      "outputs": [
        {
          "output_type": "stream",
          "name": "stdout",
          "text": [
            "Mounted at /content/gdrive\n",
            "/content/gdrive/My Drive/Colab Notebooks\n"
          ]
        }
      ]
    },
    {
      "cell_type": "code",
      "source": [
        "names = [\n",
        "    \"Nearest Neighbors\",\n",
        "    \"Linear SVM\",\n",
        "    \"RBF SVM\",\n",
        "    \"Gaussian Process\",\n",
        "    \"Decision Tree\",\n",
        "    \"Random Forest\",\n",
        "    \"Neural Net\",\n",
        "    \"AdaBoost\",\n",
        "    \"Naive Bayes\",\n",
        "    \"QDA\",\n",
        "]"
      ],
      "metadata": {
        "id": "G2oz5G7Qb7dZ"
      },
      "execution_count": 3,
      "outputs": []
    },
    {
      "cell_type": "code",
      "source": [
        "classifiers = [\n",
        "    KNeighborsClassifier(3),\n",
        "    SVC(kernel=\"linear\", C=0.025),\n",
        "    SVC(gamma=2, C=1),\n",
        "    GaussianProcessClassifier(1.0 * RBF(1.0)),\n",
        "    DecisionTreeClassifier(max_depth=5),\n",
        "    RandomForestClassifier(max_depth=5, n_estimators=10, max_features=1, random_state=420),\n",
        "    MLPClassifier(alpha=1, max_iter=1000, random_state=420),\n",
        "    AdaBoostClassifier(),\n",
        "    GaussianNB(),\n",
        "    QuadraticDiscriminantAnalysis(),\n",
        "]"
      ],
      "metadata": {
        "id": "NLEa_cfKb9T9"
      },
      "execution_count": 4,
      "outputs": []
    },
    {
      "cell_type": "code",
      "source": [
        "input=pd.read_csv('/content/gdrive/My Drive/Colab Notebooks/training2.csv')"
      ],
      "metadata": {
        "id": "MJqKS1Ucg1dM"
      },
      "execution_count": 12,
      "outputs": []
    },
    {
      "cell_type": "markdown",
      "source": [
        "Dengan seleksi fitur (Total: 63 fitur)"
      ],
      "metadata": {
        "id": "w-Ovi8PKg4LQ"
      }
    },
    {
      "cell_type": "code",
      "source": [
        "df=pd.DataFrame(input,columns=['contrast-1-0',\t'ASM-1-0',\t'energy-1-0',\t'homogeneity-1-0',\t'dissimilarity-1-0',\t\n",
        "                                 'contrast-1-45',\t'ASM-1-45',\t'energy-1-45',\t'homogeneity-1-45',\t'dissimilarity-1-45',\n",
        "                                 'contrast-1-90',\t'ASM-1-90',\t'energy-1-90',\t'homogeneity-1-90',\t'dissimilarity-1-90',\n",
        "                                 'contrast-1-135',\t'ASM-1-135',\t'energy-1-135',\t'homogeneity-1-135',\t'dissimilarity-1-135',\t\n",
        "                                 'contrast-2-0',\t'ASM-2-0',\t'energy-2-0',\t'homogeneity-2-0',\t'dissimilarity-2-0',\t\n",
        "                                 'contrast-2-45',\t'ASM-2-45',\t'energy-2-45',\t'homogeneity-2-45',\t'dissimilarity-2-45',\t\n",
        "                                 'contrast-2-90',\t'ASM-2-90',\t'energy-2-90',\t'homogeneity-2-90',\t'dissimilarity-2-90',\t\n",
        "                                 'contrast-2-135',\t'ASM-2-135',\t'energy-2-135',\t'homogeneity-2-135',\t'dissimilarity-2-135',\n",
        "                                 'contrast-3-0',\t'ASM-3-0',\t'energy-3-0',\t'homogeneity-3-0',\t'dissimilarity-3-0',\n",
        "                                 'contrast-3-45',\t'ASM-3-45',\t'energy-3-45',\t'homogeneity-3-45',\t'dissimilarity-3-45',\t\n",
        "                                 'contrast-3-90',\t'ASM-3-90',\t'energy-3-90',\t'homogeneity-3-90',\t'dissimilarity-3-90',\t\n",
        "                                 'contrast-3-135',\t'ASM-3-135',\t'energy-3-135',\t'homogeneity-3-135',\t'dissimilarity-3-135',\n",
        "                                 'L',\t'a*',\t'b*',\t'output'])\n"
      ],
      "metadata": {
        "id": "SeexP9STb-nv"
      },
      "execution_count": 5,
      "outputs": []
    },
    {
      "cell_type": "code",
      "source": [
        "X = df.iloc[:,:63].values\n",
        "y = df.iloc[:,-1].values"
      ],
      "metadata": {
        "id": "8vhB7R6bcBVO"
      },
      "execution_count": 8,
      "outputs": []
    },
    {
      "cell_type": "code",
      "source": [
        "datasets = [(X,y)]\n",
        "\n",
        "i = 1\n",
        "# iterate over datasets\n",
        "for ds_cnt, ds in enumerate(datasets):\n",
        "    # preprocess dataset, split into training and test part\n",
        "    X, y = ds\n",
        "    X = StandardScaler().fit_transform(X)\n",
        "    X_train, X_test, y_train, y_test = train_test_split(\n",
        "        X, y, test_size=0.4, random_state=42\n",
        "    )\n",
        "\n",
        "    x_min, x_max = X[:, 0].min() - 0.5, X[:, 0].max() + 0.5\n",
        "    y_min, y_max = X[:, 1].min() - 0.5, X[:, 1].max() + 0.5\n",
        "\n",
        "    # iterate over classifiers\n",
        "    for name, clf in zip(names, classifiers):\n",
        "        clf.fit(X_train, y_train)\n",
        "        score = clf.score(X_test, y_test)\n",
        "        \n",
        "        predictions = clf.predict(X_test)\n",
        "        confmat = confusion_matrix(y_test, predictions, labels=clf.classes_)\n",
        "        #confmat = [[tn fp] [fn tp]]\n",
        "\n",
        "        print(\"confusion matrix \" + str(name) + str(confmat) + \"acc \" + str(score))\n",
        "\n",
        "        i += 1"
      ],
      "metadata": {
        "id": "wZ5A1ZabcC2q",
        "colab": {
          "base_uri": "https://localhost:8080/"
        },
        "outputId": "6f094eb8-4e0a-40b2-b0bb-e3ef5446f22c"
      },
      "execution_count": 11,
      "outputs": [
        {
          "output_type": "stream",
          "name": "stdout",
          "text": [
            "confusion matrix Nearest Neighbors[[ 9  9]\n",
            " [13  9]]acc 0.45\n",
            "confusion matrix Linear SVM[[ 9  9]\n",
            " [10 12]]acc 0.525\n",
            "confusion matrix RBF SVM[[ 2 16]\n",
            " [ 0 22]]acc 0.6\n",
            "confusion matrix Gaussian Process[[12  6]\n",
            " [12 10]]acc 0.55\n",
            "confusion matrix Decision Tree[[12  6]\n",
            " [13  9]]acc 0.525\n",
            "confusion matrix Random Forest[[ 9  9]\n",
            " [15  7]]acc 0.4\n",
            "confusion matrix Neural Net[[10  8]\n",
            " [15  7]]acc 0.425\n",
            "confusion matrix AdaBoost[[14  4]\n",
            " [15  7]]acc 0.525\n",
            "confusion matrix Naive Bayes[[ 2 16]\n",
            " [ 4 18]]acc 0.5\n",
            "confusion matrix QDA[[17  1]\n",
            " [18  4]]acc 0.525\n"
          ]
        },
        {
          "output_type": "stream",
          "name": "stderr",
          "text": [
            "/usr/local/lib/python3.7/dist-packages/sklearn/discriminant_analysis.py:878: UserWarning: Variables are collinear\n",
            "  warnings.warn(\"Variables are collinear\")\n"
          ]
        }
      ]
    },
    {
      "cell_type": "markdown",
      "source": [
        "Tanpa seleksi fitur (Total: 37 fitur)"
      ],
      "metadata": {
        "id": "4758VemZgvFC"
      }
    },
    {
      "cell_type": "code",
      "source": [
        "df=pd.DataFrame(input,columns=['ASM-1-0', 'energy-1-0', 'homogeneity-1-0', 'dissimilarity-1-0', 'ASM-1-45', 'energy-1-45', 'homogeneity-1-45', 'ASM-1-90', \n",
        "                                'energy-1-90', 'homogeneity-1-90', 'ASM-1-135', 'energy-1-135', 'homogeneity-1-135', 'ASM-2-0', 'energy-2-0', 'ASM-2-45',\n",
        "                               'energy-2-45', 'ASM-2-90', 'energy-2-90', 'ASM-2-135', 'energy-2-135', 'homogeneity-2-135', 'ASM-3-0', 'energy-3-0',\n",
        "                               'homogeneity-3-0', 'dissimilarity-3-0', 'ASM-3-45', 'energy-3-45', 'homogeneity-3-45', 'dissimilarity-3-45', 'ASM-3-90', \n",
        "                               'energy-3-90', 'homogeneity-3-90', 'dissimilarity-3-90', 'ASM-3-135', 'energy-3-135', 'homogeneity-3-135', 'output'])"
      ],
      "metadata": {
        "id": "ELHFP7j2glYP"
      },
      "execution_count": 13,
      "outputs": []
    },
    {
      "cell_type": "code",
      "source": [
        "X = df.iloc[:,:37].values\n",
        "y = df.iloc[:,-1].values"
      ],
      "metadata": {
        "id": "9w11ksAKgqs5"
      },
      "execution_count": 14,
      "outputs": []
    },
    {
      "cell_type": "code",
      "source": [
        "datasets = [(X,y)]\n",
        "\n",
        "i = 1\n",
        "# iterate over datasets\n",
        "for ds_cnt, ds in enumerate(datasets):\n",
        "    # preprocess dataset, split into training and test part\n",
        "    X, y = ds\n",
        "    X = StandardScaler().fit_transform(X)\n",
        "    X_train, X_test, y_train, y_test = train_test_split(\n",
        "        X, y, test_size=0.4, random_state=42\n",
        "    )\n",
        "\n",
        "    x_min, x_max = X[:, 0].min() - 0.5, X[:, 0].max() + 0.5\n",
        "    y_min, y_max = X[:, 1].min() - 0.5, X[:, 1].max() + 0.5\n",
        "\n",
        "    # iterate over classifiers\n",
        "    for name, clf in zip(names, classifiers):\n",
        "        clf.fit(X_train, y_train)\n",
        "        score = clf.score(X_test, y_test)\n",
        "        \n",
        "        predictions = clf.predict(X_test)\n",
        "        confmat = confusion_matrix(y_test, predictions, labels=clf.classes_)\n",
        "        #confmat = [[tn fp] [fn tp]]\n",
        "\n",
        "        print(\"confusion matrix \" + str(name) + str(confmat) + \"acc \" + str(score))\n",
        "\n",
        "        i += 1"
      ],
      "metadata": {
        "colab": {
          "base_uri": "https://localhost:8080/"
        },
        "id": "W2N-ug0Gg_dR",
        "outputId": "63e17973-fa58-4ef4-d301-9f6eaa843000"
      },
      "execution_count": 15,
      "outputs": [
        {
          "output_type": "stream",
          "name": "stdout",
          "text": [
            "confusion matrix Nearest Neighbors[[ 8 10]\n",
            " [ 7 15]]acc 0.575\n",
            "confusion matrix Linear SVM[[ 5 13]\n",
            " [ 6 16]]acc 0.525\n",
            "confusion matrix RBF SVM[[11  7]\n",
            " [ 9 13]]acc 0.6\n",
            "confusion matrix Gaussian Process[[ 9  9]\n",
            " [ 9 13]]acc 0.55\n",
            "confusion matrix Decision Tree[[ 6 12]\n",
            " [11 11]]acc 0.425\n",
            "confusion matrix Random Forest[[11  7]\n",
            " [11 11]]acc 0.55\n"
          ]
        },
        {
          "output_type": "stream",
          "name": "stderr",
          "text": [
            "/usr/local/lib/python3.7/dist-packages/sklearn/gaussian_process/kernels.py:427: ConvergenceWarning: The optimal value found for dimension 0 of parameter k1__constant_value is close to the specified lower bound 1e-05. Decreasing the bound and calling fit again may find a better value.\n",
            "  ConvergenceWarning,\n"
          ]
        },
        {
          "output_type": "stream",
          "name": "stdout",
          "text": [
            "confusion matrix Neural Net[[ 5 13]\n",
            " [ 6 16]]acc 0.525\n",
            "confusion matrix AdaBoost[[11  7]\n",
            " [11 11]]acc 0.55\n",
            "confusion matrix Naive Bayes[[ 3 15]\n",
            " [ 5 17]]acc 0.5\n",
            "confusion matrix QDA[[ 7 11]\n",
            " [ 8 14]]acc 0.525\n"
          ]
        },
        {
          "output_type": "stream",
          "name": "stderr",
          "text": [
            "/usr/local/lib/python3.7/dist-packages/sklearn/discriminant_analysis.py:878: UserWarning: Variables are collinear\n",
            "  warnings.warn(\"Variables are collinear\")\n"
          ]
        }
      ]
    }
  ]
}