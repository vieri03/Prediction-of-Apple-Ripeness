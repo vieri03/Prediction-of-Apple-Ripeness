{
  "nbformat": 4,
  "nbformat_minor": 0,
  "metadata": {
    "colab": {
      "name": "Image Segmentation - K-means Clustering 2",
      "provenance": [],
      "collapsed_sections": [],
      "authorship_tag": "ABX9TyNZCyNfdepxyrDfy9YWaeln",
      "include_colab_link": true
    },
    "kernelspec": {
      "name": "python3",
      "display_name": "Python 3"
    },
    "language_info": {
      "name": "python"
    }
  },
  "cells": [
    {
      "cell_type": "markdown",
      "metadata": {
        "id": "view-in-github",
        "colab_type": "text"
      },
      "source": [
        "<a href=\"https://colab.research.google.com/github/vieri03/Prediction-of-Apple-Ripeness/blob/main/Image_Segmentation_K_means_Clustering_2.ipynb\" target=\"_parent\"><img src=\"https://colab.research.google.com/assets/colab-badge.svg\" alt=\"Open In Colab\"/></a>"
      ]
    },
    {
      "cell_type": "code",
      "execution_count": null,
      "metadata": {
        "id": "ZS5Eo8Cyt139"
      },
      "outputs": [],
      "source": [
        "import numpy as np\n",
        "import cv2 as cv\n",
        "import matplotlib.pyplot as plt\n",
        "import glob\n",
        "import csv"
      ]
    },
    {
      "cell_type": "code",
      "source": [
        "from google.colab import drive\n",
        "drive.mount('/content/gdrive')\n",
        "%cd /content/gdrive/My Drive/Colab Notebooks"
      ],
      "metadata": {
        "colab": {
          "base_uri": "https://localhost:8080/"
        },
        "id": "44Jm6YbG0Yrs",
        "outputId": "4baa2043-e965-4fbc-f69d-8b0b9f243f48"
      },
      "execution_count": null,
      "outputs": [
        {
          "output_type": "stream",
          "name": "stdout",
          "text": [
            "Mounted at /content/gdrive\n",
            "/content/gdrive/My Drive/Colab Notebooks\n"
          ]
        }
      ]
    },
    {
      "cell_type": "markdown",
      "source": [
        "K-means clustering, K=3"
      ],
      "metadata": {
        "id": "xtSW9iWDFf8b"
      }
    },
    {
      "cell_type": "code",
      "source": [
        "path = '/content/gdrive/My Drive/Colab Notebooks/K-means-after/*.*'\n",
        "\n",
        "filename = '/content/gdrive/My Drive/Colab Notebooks/K-means-result/conversion_rate_after_new.csv'\n",
        "\n",
        "# open the file in the write mode\n",
        "f = open(filename, 'w')\n",
        "\n",
        "# create the csv writer\n",
        "writer = csv.writer(f)\n",
        "head = [\"Number\",\"Image\", \"Cluster 0\", \"Cluster 1\", \"Cluster 2\", \"Sum Cluster 0\", \"Sum Cluster 1\", \"Sum Cluster 2\"]\n",
        "writer.writerow(head)\n",
        "\n",
        "image_no = 1\n",
        "for file in sorted(glob.glob(path)):\n",
        "  original_image = cv.imread(file)\n",
        "  img =cv.cvtColor(original_image,cv.COLOR_BGR2RGB)\n",
        "  vectorize = img.reshape((-1,3))\n",
        "\n",
        "  # convert to np.float32\n",
        "  vectorized = np.float32(vectorize)\n",
        "\n",
        "  # define criteria, number of clusters(K) and apply kmeans()\n",
        "  criteria = (cv.TERM_CRITERIA_EPS + cv.TERM_CRITERIA_MAX_ITER, 10, 1.0)\n",
        "  K = 3\n",
        "  attempts = 10\n",
        "  ret,label,center=cv.kmeans(vectorized,K,None,criteria,attempts,cv.KMEANS_PP_CENTERS)\n",
        "\n",
        "  # Now convert back into uint8, and make original image\n",
        "  center = np.uint8(center)\n",
        "  res = center[label.flatten()]\n",
        "  result_image = res.reshape((img.shape))\n",
        "  result_image2 = cv.cvtColor(result_image,cv.COLOR_RGB2BGR)\n",
        "\n",
        "  result = '/content/gdrive/My Drive/Colab Notebooks/K-means-result/segmented' + str(image_no) + '.jpg'\n",
        "  cv.imwrite(result, result_image2)\n",
        "\n",
        "  pixel_0 = np.sum(center[0])\n",
        "  pixel_1 = np.sum(center[1])\n",
        "  pixel_2 = np.sum(center[2])\n",
        "\n",
        "  row = [image_no, file, center[0], center[1], center[2], pixel_0, pixel_1, pixel_2]\n",
        "\n",
        "# write a row to the csv file\n",
        "  writer.writerow(row)\n",
        "\n",
        "  image_no += 1\n",
        "\n",
        "# close the file\n",
        "f.close()"
      ],
      "metadata": {
        "id": "j9FyzqG40bPD"
      },
      "execution_count": null,
      "outputs": []
    },
    {
      "cell_type": "markdown",
      "source": [
        "K-means clustering, K=2, RGB to Lab"
      ],
      "metadata": {
        "id": "3KQiPQalFZRx"
      }
    },
    {
      "cell_type": "code",
      "source": [
        "# RGB to Lab conversion\n",
        "\n",
        "# Step 1: RGB to XYZ      http://www.easyrgb.com/index.php?X=MATH&H=02#text2\n",
        "# Step 2: XYZ to Lab      http://www.easyrgb.com/index.php?X=MATH&H=07#text7\n",
        "\n",
        "def rgb2lab(inputColor):\n",
        "\n",
        "    num = 0\n",
        "    RGB = [0, 0, 0]\n",
        "\n",
        "    for value in inputColor:\n",
        "        value = float(value) / 255\n",
        "\n",
        "        if value > 0.04045:\n",
        "            value = ((value + 0.055) / 1.055) ** 2.4\n",
        "        else:\n",
        "            value = value / 12.92\n",
        "\n",
        "        RGB[num] = value * 100\n",
        "        num = num + 1\n",
        "\n",
        "    XYZ = [0, 0, 0, ]\n",
        "\n",
        "    X = RGB[0] * 0.4124 + RGB[1] * 0.3576 + RGB[2] * 0.1805\n",
        "    Y = RGB[0] * 0.2126 + RGB[1] * 0.7152 + RGB[2] * 0.0722\n",
        "    Z = RGB[0] * 0.0193 + RGB[1] * 0.1192 + RGB[2] * 0.9505\n",
        "    XYZ[0] = round(X, 4)\n",
        "    XYZ[1] = round(Y, 4)\n",
        "    XYZ[2] = round(Z, 4)\n",
        "\n",
        "    # Observer= 2°, Illuminant= D65\n",
        "    XYZ[0] = float(XYZ[0]) / 95.047         # ref_X =  95.047\n",
        "    XYZ[1] = float(XYZ[1]) / 100.0          # ref_Y = 100.000\n",
        "    XYZ[2] = float(XYZ[2]) / 108.883        # ref_Z = 108.883\n",
        "\n",
        "    num = 0\n",
        "    for value in XYZ:\n",
        "\n",
        "        if value > 0.008856:\n",
        "            value = value ** (0.3333333333333333)\n",
        "        else:\n",
        "            value = (7.787 * value) + (16 / 116)\n",
        "\n",
        "        XYZ[num] = value\n",
        "        num = num + 1\n",
        "\n",
        "    Lab = [0, 0, 0]\n",
        "\n",
        "    L = (116 * XYZ[1]) - 16\n",
        "    a = 500 * (XYZ[0] - XYZ[1])\n",
        "    b = 200 * (XYZ[1] - XYZ[2])\n",
        "\n",
        "    Lab[0] = round(L, 4)\n",
        "    Lab[1] = round(a, 4)\n",
        "    Lab[2] = round(b, 4)\n",
        "\n",
        "    return Lab"
      ],
      "metadata": {
        "id": "XX2Bv0smu3tQ"
      },
      "execution_count": null,
      "outputs": []
    },
    {
      "cell_type": "markdown",
      "source": [
        "Source: https://gist.github.com/manojpandey/f5ece715132c572c80421febebaf66ae\n",
        "\n",
        "Reference: https://en.wikipedia.org/wiki/CIELAB_color_space\n",
        "\n",
        " \"CIE 1976 L*a*b* colour space | eilv\". eilv.cie.co.at. Archived from the original on 2019-12-28. Retrieved 2020-12-12."
      ],
      "metadata": {
        "id": "M4Rs9nyhw4ik"
      }
    },
    {
      "cell_type": "code",
      "source": [
        "path = '/content/gdrive/My Drive/Colab Notebooks/K-means/*.*'\n",
        "\n",
        "filename = '/content/gdrive/My Drive/Colab Notebooks/K-means-result/conversion_rate_lab.csv'\n",
        "\n",
        "# open the file in the write mode\n",
        "f = open(filename, 'w')\n",
        "\n",
        "# create the csv writer\n",
        "writer = csv.writer(f)\n",
        "head = [\"Number\",\"Image\", \"Cluster 0 RGB\", \"Cluster 1 RGB\", \"0 L\", \"0 a*\", \"0 b*\", \"1 L\", \"1 a*\", \"1 b*\", \"Sum Cluster 0\", \"Sum Cluster 1\"]\n",
        "writer.writerow(head)\n",
        "\n",
        "image_no = 1\n",
        "for file in sorted(glob.glob(path)):\n",
        "  original_image = cv.imread(file)\n",
        "  img =cv.cvtColor(original_image,cv.COLOR_BGR2RGB)\n",
        "  vectorize = img.reshape((-1,3))\n",
        "\n",
        "  # convert to np.float32\n",
        "  vectorized = np.float32(vectorize)\n",
        "\n",
        "  # define criteria, number of clusters(K) and apply kmeans()\n",
        "  criteria = (cv.TERM_CRITERIA_EPS + cv.TERM_CRITERIA_MAX_ITER, 10, 1.0)\n",
        "  K = 2\n",
        "  attempts = 10\n",
        "  ret,label,center=cv.kmeans(vectorized,K,None,criteria,attempts,cv.KMEANS_PP_CENTERS)\n",
        "\n",
        "  # Now convert back into uint8, and make original image\n",
        "  center = np.uint8(center)\n",
        "  res = center[label.flatten()]\n",
        "  result_image = res.reshape((img.shape))\n",
        "  result_image2 = cv.cvtColor(result_image,cv.COLOR_RGB2BGR)\n",
        "  \n",
        "  result = '/content/gdrive/My Drive/Colab Notebooks/K-means-result/segmented' + str(image_no) + '.jpg'\n",
        "  cv.imwrite(result, result_image2)\n",
        "\n",
        "  pixel_0 = np.sum(center[0])\n",
        "  pixel_1 = np.sum(center[1])\n",
        "\n",
        "  pixlab_0 = rgb2lab(center[0])\n",
        "  pixlab_1 = rgb2lab(center[1])\n",
        "\n",
        "  row = [image_no, file, center[0], center[1], pixlab_0[0], pixlab_0[1], pixlab_0[2], pixlab_1[0], pixlab_1[1], pixlab_1[2], pixel_0, pixel_1]\n",
        "\n",
        "  # write a row to the csv file\n",
        "  writer.writerow(row)\n",
        "\n",
        "  image_no += 1\n",
        "\n",
        "# close the file\n",
        "f.close()"
      ],
      "metadata": {
        "id": "5qZjwxb_CEF8"
      },
      "execution_count": null,
      "outputs": []
    }
  ]
}